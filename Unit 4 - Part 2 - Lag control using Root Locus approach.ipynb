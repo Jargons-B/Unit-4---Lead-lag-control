{
 "cells": [
  {
   "cell_type": "markdown",
   "metadata": {},
   "source": [
    "# Lag Compensators"
   ]
  },
  {
   "attachments": {},
   "cell_type": "markdown",
   "metadata": {},
   "source": [
    "# From last lecture\n",
    "\n",
    "Lead Compensator\n",
    "$$\n",
    "K(s) = K_{ld}\\frac{s+b}{s+a}, \\hspace{1cm} b<a\n",
    "$$\n",
    "\n",
    "Lag Compensator\n",
    "$$\n",
    "K(s) = K_{lg}\\frac{s+b}{s+a}, \\hspace{1cm} b>a\n",
    "$$\n"
   ]
  },
  {
   "cell_type": "code",
   "execution_count": null,
   "metadata": {},
   "outputs": [],
   "source": [
    "import control as ct"
   ]
  },
  {
   "cell_type": "code",
   "execution_count": null,
   "metadata": {},
   "outputs": [],
   "source": [
    "K = ct.tf([1, 2], [1, 1])\n",
    "mag, phase, w = ct.bode_plot(K)"
   ]
  },
  {
   "attachments": {},
   "cell_type": "markdown",
   "metadata": {},
   "source": [
    "# When do we use Lead and Lag Controllers?\n",
    "\n",
    "When PID (or other current simple controller) is not quite good enough. \n",
    "\n",
    "Lead and Lag compensators are usually added in-line with another simple controller.\n",
    "\n",
    "![closedloop](closedloop.png \"Closed Loop\")\n",
    "\n",
    "General philosophy: start simple, then gradually increase complexity if needed.\n",
    "\n",
    "Lead controller:\n",
    "- speed up system\n",
    "- improve phase margin (increase robustness)\n",
    "\n",
    "\n",
    "Lag controller:\n",
    "- slow down system\n",
    "- improve reference tracking\n",
    "- improve disturbance rejection\n",
    "- keep transient response the same, but reduce steady state error"
   ]
  },
  {
   "attachments": {},
   "cell_type": "markdown",
   "metadata": {},
   "source": [
    "# Lag Compensators - Design using Root Locus \n",
    "\n",
    "This method highlights how to keep transient response the same, but reduce steady state error."
   ]
  },
  {
   "attachments": {},
   "cell_type": "markdown",
   "metadata": {},
   "source": [
    "# Steady State Error\n",
    "\n",
    "Want to understand the effect of a Lag Compensator on steady state error.\n",
    "\n",
    "Consider a plant \n",
    "$$\n",
    "P(s) = \\frac{B(s)}{A(s)} = \\frac{b_0 + b_1s + \\cdots b_{n_b}s^{n_b}}{1 + a_1s + \\cdots a_{n_a}s^{n_a}}\n",
    "$$ \n",
    "and a Lag Compensator $K(s) = K_{lg} \\frac{s+b}{s+a}$.\n",
    "\n",
    "The steady state error to a unit step is:\n",
    "$$\n",
    "\\begin{align*}\n",
    "\\epsilon(\\infty) &= \\lim_{s \\to 0} \\mathcal{E}(s)s \\\\\n",
    "&= \\lim_{s \\to 0} sS(s)R(s) \\\\\n",
    "&= \\lim_{s \\to 0} \\frac{1}{1 + P(s)K(s)}sR(s) \\\\\n",
    "&= \\lim_{s \\to 0} \\frac{1}{1 + \\frac{B(s)}{A(s)}K_{lg}\\frac{s+b}{s+a}}sR(s) \\\\\n",
    "&= \\lim_{s \\to 0} \\frac{A(s)(s+a)}{B(s)K_{lg}(s+b) + A(s)(s+a)}sR(s) \\\\\n",
    "&= \\lim_{s \\to 0} \\frac{(1 + a_1s + \\cdots a_{n_a}s^{n_a})(s+a)}{(b_0 + b_1s + \\cdots b_{n_b}s^{n_b})K_{lg}(s+b) + (1 + a_1s + \\cdots a_{n_a}s^{n_a})(s+a)}s\\frac{1}{s} \\\\\n",
    "&= \\frac{a}{b_0K_{lg}b + a} \\\\\n",
    "\\end{align*}\n",
    "$$\n",
    "Recall that for a Lag compensator $b>a$. Therefore, we can reduce the steady state error using a Lag Compensator. \n",
    "\n",
    "Note, however, that we cannot eliminate steady state error using a Lag Compensator."
   ]
  },
  {
   "attachments": {},
   "cell_type": "markdown",
   "metadata": {},
   "source": [
    "# In Class Activity!\n",
    "\n",
    "Consider a plant $P(s) = \\frac{s+1}{s^2+2s+2}$. What is the steady state error for a proportional controller? Can we select $a$ and $b$ to reduce the steady state error by a factor of 10?"
   ]
  },
  {
   "attachments": {},
   "cell_type": "markdown",
   "metadata": {},
   "source": [
    "The steady state error for a closed loop system with a proportional controller is equal to:\n",
    "$$\n",
    "\\begin{align*}\n",
    "\\varepsilon(\\infty) &= \\lim_{s \\to 0} \\frac{1}{1 + P(s)K(s)}sR(s) \\\\\n",
    "&= \\lim_{s \\to 0} \\frac{1}{1 + \\frac{s+1}{s^2+2s+2}K} \\\\\n",
    "&= \\lim_{s \\to 0} \\frac{s^2+2s+2}{s^2+2s+2 + (s+1)K} \\\\\n",
    "&= \\frac{2}{2+K}\n",
    "\\end{align*}\n",
    "$$\n",
    "From the derivation above, the steady state error for a closed-loop system with a Lag Compensator is equal to:\n",
    "$$\n",
    "\\begin{align*}\n",
    "\\varepsilon_c(\\infty) = \\frac{a}{2Kb + a} \\\\\n",
    "\\end{align*}\n",
    "$$\n",
    "We want the ratio of $\\varepsilon_c(\\infty)/\\varepsilon(\\infty)$ to be equal to $0.1$:\n",
    "$$\n",
    "\\begin{align*}\n",
    "\\frac{\\varepsilon_c(\\infty)}{\\varepsilon(\\infty)} &= \\frac{\\frac{a}{2Kb + a}}{\\frac{2}{2+K}} \\\\\n",
    "0.1 &= \\frac{a(2+K)}{2(2Kb+a)} \\\\\n",
    "0.1*2(2Kb+a) &= a(2+K) \\\\\n",
    "(0.4K)b &= a(1.8+K) \\\\\n",
    "\\frac{b}{a} &= \\frac{(1.8+K)}{0.4K}\n",
    "\\end{align*}\n",
    "$$\n",
    "Thus if we select $b$ and $a$ such that this ratio holds, we will reduce the steady state error by a factor of 10."
   ]
  },
  {
   "attachments": {},
   "cell_type": "markdown",
   "metadata": {},
   "source": [
    "# Designing a Lag Compensator - The Root Locus Approach\n",
    "\n",
    "We have determined a ratio that $a$ and $b$ must satisfy in order to get the desired steady state error. \n",
    "\n",
    "Now we must place the compensator pole and zero in the s-plane. \n",
    "\n",
    "The main objective is to not change the transient response characteristics (such as rise time, overshoot, etc.) that much. \n",
    "\n",
    "So we want to keep the Root Locus plot very similar when we add the Lag Compensator.\n",
    "\n",
    "# Key Reasoning\n",
    "\n",
    "Consider a point $a$ in the s-plane:\n",
    "- Recall that every point on the Root Locus satisfies the Angle Condition and the Magnitude Condition. That is, if and only if a point $L(a)$ has angle $-180$ and magnitude $1$ then it lies on the Root Locus.\n",
    "- Each pole and zero \"contributes\" an angle to the point $a$\n",
    "- The angle contributed by a zero is $\\theta_z$ where $a-z = M_z \\angle \\theta_z$.\n",
    "- Thus, if we do not want the Lag compensator to change the Root Locus very much, we need to place the pole and zero of the Root Locus close together.\n",
    "- In order to place the pole and the zero close together, but also have the correct ratio to reduce the steady state error to the desired level, it is typical to choose $a$ and $b$ quite small. "
   ]
  },
  {
   "attachments": {},
   "cell_type": "markdown",
   "metadata": {},
   "source": [
    "# Example\n",
    "\n",
    "The main reasoning will be illustrated using an example."
   ]
  }
 ],
 "metadata": {
  "kernelspec": {
   "display_name": "enel441",
   "language": "python",
   "name": "python3"
  },
  "language_info": {
   "name": "python",
   "version": "3.10.8"
  },
  "orig_nbformat": 4
 },
 "nbformat": 4,
 "nbformat_minor": 2
}
